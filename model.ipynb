{
 "cells": [
  {
   "cell_type": "code",
   "execution_count": 1,
   "metadata": {},
   "outputs": [],
   "source": [
    "import json\n",
    "import numpy as np\n",
    "import torch\n",
    "import torch.nn as nn\n",
    "import torch.nn.functional as F\n",
    "from torch.utils.data import Dataset, DataLoader\n",
    "from PIL import Image\n",
    "import clip\n",
    "from copy import deepcopy\n",
    "from matplotlib import pyplot as plt\n",
    "%matplotlib inline\n",
    "\n",
    "from transform import _transform"
   ]
  },
  {
   "cell_type": "markdown",
   "metadata": {},
   "source": [
    "数据格式"
   ]
  },
  {
   "cell_type": "code",
   "execution_count": 2,
   "metadata": {},
   "outputs": [
    {
     "data": {
      "text/plain": [
       "{'image_name': 'photo1/image0110',\n",
       " 'skin_color': [163, 139],\n",
       " 'lip_color': [156.97750511247443, 82.51124744376278, 79.0],\n",
       " 'eye_color': [118.65178571428571, 72.25892857142857, 69.59821428571429],\n",
       " 'hair': 0,\n",
       " 'hair_color': 2,\n",
       " 'gender': 0,\n",
       " 'earring': 1,\n",
       " 'smile': 1,\n",
       " 'frontal_face': 1,\n",
       " 'style': 0}"
      ]
     },
     "execution_count": 2,
     "metadata": {},
     "output_type": "execute_result"
    }
   ],
   "source": [
    "anno_train = json.load(open('FS2K/anno_train.json', 'r'))\n",
    "anno_train[0]"
   ]
  },
  {
   "cell_type": "markdown",
   "metadata": {},
   "source": [
    "数据预处理"
   ]
  },
  {
   "cell_type": "code",
   "execution_count": 20,
   "metadata": {},
   "outputs": [],
   "source": [
    "N_CLASSES = {'hair': 2, 'hair_color': 5, 'gender': 2, 'earring': 2, \\\n",
    "    'smile': 2, 'frontal_face': 2, 'style': 3}\n",
    "# N_CLASSES = {'gender': 2}"
   ]
  },
  {
   "cell_type": "code",
   "execution_count": 21,
   "metadata": {},
   "outputs": [],
   "source": [
    "class Data(Dataset):\n",
    "    def __init__(self, anno_file, split='train'):\n",
    "        super().__init__()\n",
    "        self.anno = json.load(open(anno_file, 'r'))\n",
    "        self.len = len(self.anno)\n",
    "        self.split = split\n",
    "        self.transform = _transform((448, 448))\n",
    "\n",
    "    def __len__(self):\n",
    "        return self.len\n",
    "\n",
    "    def __getitem__(self, index):\n",
    "        img_name = self.anno[index]['image_name']\n",
    "        img_name = img_name.replace('/', '_')\n",
    "        img_name = img_name.replace('photo', 'sketch')\n",
    "        img_name = img_name.replace('image', 'sketch')\n",
    "        img_path = f'FS2K/{self.split}/sketch/' + img_name + '.png'\n",
    "        img = Image.open(img_path)\n",
    "        img = self.transform(img)\n",
    "        label = {key: self.anno[index][key] for key in N_CLASSES}\n",
    "        return img, label"
   ]
  },
  {
   "cell_type": "code",
   "execution_count": 22,
   "metadata": {},
   "outputs": [],
   "source": [
    "BATCH_SIZE = 8\n",
    "train_set = Data('FS2K/anno_train.json')\n",
    "train_loader = DataLoader(train_set, batch_size=BATCH_SIZE, shuffle=True, num_workers=8, drop_last=True, pin_memory=True)\n",
    "val_set = Data('FS2K/anno_test.json', split='test')\n",
    "val_loader = DataLoader(val_set, batch_size=BATCH_SIZE, shuffle=False, num_workers=8, drop_last=False, pin_memory=True)\n"
   ]
  },
  {
   "cell_type": "code",
   "execution_count": 5,
   "metadata": {},
   "outputs": [
    {
     "data": {
      "text/plain": [
       "torch.Size([3, 448, 448])"
      ]
     },
     "execution_count": 5,
     "metadata": {},
     "output_type": "execute_result"
    }
   ],
   "source": [
    "img_, label_ = train_set[0]\n",
    "img_.shape"
   ]
  },
  {
   "cell_type": "markdown",
   "metadata": {},
   "source": [
    "搭模型"
   ]
  },
  {
   "cell_type": "code",
   "execution_count": 23,
   "metadata": {},
   "outputs": [],
   "source": [
    "class FrozenBatchNorm(nn.Module):\n",
    "    def __init__(self, alive_bn):\n",
    "        super().__init__()\n",
    "        self.eps = 1e-5\n",
    "        self.weight = alive_bn.weight\n",
    "        self.bias = alive_bn.bias\n",
    "        self.register_buffer('running_mean', alive_bn.running_mean)\n",
    "        self.register_buffer('running_var', alive_bn.running_var)\n",
    "        del alive_bn\n",
    "    \n",
    "    def forward(self, x):\n",
    "        return F.batch_norm(\n",
    "            x,\n",
    "            self.running_mean,\n",
    "            self.running_var,\n",
    "            self.weight,\n",
    "            self.bias,\n",
    "            training=False,\n",
    "            eps=self.eps\n",
    "        )\n",
    "\n",
    "def bn_convert(model, learned=False):\n",
    "    for name, module in model.named_children():\n",
    "        if isinstance(module, nn.BatchNorm2d):\n",
    "            _module = FrozenBatchNorm(module)\n",
    "            _module.weight.requires_grad = learned\n",
    "            _module.bias.requires_grad = learned\n",
    "            model.__setattr__(name, _module)\n",
    "            del module\n",
    "        else:\n",
    "            bn_convert(module, learned)\n"
   ]
  },
  {
   "cell_type": "code",
   "execution_count": 24,
   "metadata": {},
   "outputs": [],
   "source": [
    "clip_model, _ = clip.load('/data-ssd/shaozw/RN50x64.pt', device='cpu')\n",
    "class Sk2Attr(nn.Module):\n",
    "    def __init__(self):\n",
    "        super().__init__()\n",
    "        cnn = deepcopy(clip_model.visual)\n",
    "\n",
    "        ############ CNN Modifing ############\n",
    "        cnn.float()\n",
    "        attnpool = cnn.attnpool\n",
    "        cnn.attnpool = nn.Identity()\n",
    "        bn_convert(cnn.bn1)\n",
    "        bn_convert(cnn.bn2)\n",
    "        bn_convert(cnn.bn3)\n",
    "        bn_convert(cnn.layer1)\n",
    "        bn_convert(cnn.layer2)\n",
    "        bn_convert(cnn.layer3)\n",
    "        bn_convert(cnn.layer4)\n",
    "        for p in cnn.parameters():\n",
    "            p.requires_grad = False\n",
    "        # for p in cnn.layer3.parameters():\n",
    "        #     p.requires_grad = True\n",
    "        # for p in cnn.layer4.parameters():\n",
    "        #     p.requires_grad = True\n",
    "        ############ CNN Modifing ############\n",
    "        \n",
    "        self.cnn = cnn\n",
    "        self.classifiers = {\n",
    "            key: nn.Sequential(deepcopy(attnpool), nn.Linear(1024, N_CLASSES[key])) \\\n",
    "            # key: nn.Sequential(deepcopy(attnpool)) \\\n",
    "                for key in N_CLASSES\n",
    "        }\n",
    "        self.classifiers_list = nn.ModuleList(list(self.classifiers.values()))\n",
    "    \n",
    "    def forward(self, x):\n",
    "        x = self.cnn(x)\n",
    "        # print(x.shape)\n",
    "        return {key: self.classifiers[key](x) for key in N_CLASSES}\n"
   ]
  },
  {
   "cell_type": "markdown",
   "metadata": {},
   "source": [
    "搭建训练逻辑"
   ]
  },
  {
   "cell_type": "code",
   "execution_count": 8,
   "metadata": {},
   "outputs": [],
   "source": [
    "LR = 1e-3\n",
    "EPOCHS = 6\n",
    "WARMUP = 2 *len(train_loader)\n",
    "MILESTONES = [4 * len(train_loader)]\n",
    "def get_optim_utils(net, lr=LR, warmup=WARMUP, milestones=MILESTONES, decay_r=0.1, init_r=0.1):\n",
    "    criterions = nn.CrossEntropyLoss()\n",
    "    optimizer = torch.optim.Adam(\n",
    "        filter(lambda p: p.requires_grad, net.parameters()),\n",
    "        lr=lr\n",
    "    )\n",
    "    schd1 = torch.optim.lr_scheduler.LinearLR(optimizer, init_r, total_iters=warmup) \n",
    "    schd2 = torch.optim.lr_scheduler.MultiStepLR(optimizer, milestones=milestones, gamma=decay_r)\n",
    "    # schd2 = torch.optim.lr_scheduler.CosineAnnealingLR(optimizer, T_max=EPOCHS, eta_min=1e-7, last_epoch=-1)\n",
    "    schd = torch.optim.lr_scheduler.SequentialLR(optimizer, [schd1, schd2], milestones=[warmup])\n",
    "    return criterions, optimizer, schd"
   ]
  },
  {
   "cell_type": "code",
   "execution_count": null,
   "metadata": {},
   "outputs": [],
   "source": [
    "# plot the curve of lr\n",
    "criterions, optimizer, schd = get_optim_utils(net, 1e-4, 130, [130], 0.2, 0.1)\n",
    "lr_record = []\n",
    "for i in range(400):\n",
    "    schd.step()\n",
    "    lr_record.append(optimizer.param_groups[0]['lr'])\n",
    "# print(lr_record)\n",
    "plt.plot(lr_record)\n",
    "plt.xlabel('steps')\n",
    "plt.ylabel('lr')\n"
   ]
  },
  {
   "cell_type": "code",
   "execution_count": 25,
   "metadata": {},
   "outputs": [],
   "source": [
    "@torch.no_grad()\n",
    "def validate(net, verbose=True):\n",
    "    net.eval()\n",
    "    correct = {key: 0 for key in N_CLASSES}\n",
    "    n_sample = len(val_loader) * BATCH_SIZE\n",
    "    for i, (img, label) in enumerate(val_loader):\n",
    "        img = img.cuda()\n",
    "        output = net(img)\n",
    "        pred = {key: output[key].argmax(dim=1).cpu() for key in N_CLASSES}\n",
    "        correct = {key: correct[key] + (pred[key] == label[key]).sum().item()\\\n",
    "             for key in N_CLASSES}\n",
    "    acc_per_task = {key: correct[key] / n_sample for key in N_CLASSES}\n",
    "    if verbose:\n",
    "        print('Eval:', end='')\n",
    "        for key in N_CLASSES:\n",
    "            print('\\t[{} {:.2f}]'.format(key, acc_per_task[key] * 100), end='\\t')\n",
    "        print()\n",
    "    return acc_per_task"
   ]
  },
  {
   "cell_type": "markdown",
   "metadata": {},
   "source": [
    "定义一些数据记录工具"
   ]
  },
  {
   "cell_type": "code",
   "execution_count": 26,
   "metadata": {},
   "outputs": [],
   "source": [
    "training_total_loss = []\n",
    "training_tasks_loss = {key: [] for key in N_CLASSES}\n",
    "validation_tasks_acc = {key: [] for key in N_CLASSES}"
   ]
  },
  {
   "cell_type": "code",
   "execution_count": 27,
   "metadata": {},
   "outputs": [],
   "source": [
    "def refresh_records():\n",
    "    global training_total_loss, training_tasks_loss, validation_tasks_acc\n",
    "    training_total_loss = []\n",
    "    training_tasks_loss = {key: [] for key in N_CLASSES}\n",
    "    validation_tasks_acc = {key: [] for key in N_CLASSES}"
   ]
  },
  {
   "cell_type": "code",
   "execution_count": 42,
   "metadata": {},
   "outputs": [],
   "source": [
    "COLOR = {key: 'C{}'.format(i) for i, key in enumerate(N_CLASSES)}\n",
    "def smooth(vlist):\n",
    "    rlist = []\n",
    "    for i in range(1, len(vlist)):\n",
    "        j = max(0, i - 20)\n",
    "        v = sum(vlist[j:i]) / max(1, i - j)\n",
    "        rlist.append(v)\n",
    "    return rlist\n",
    "\n",
    "def plot_training_loss():\n",
    "    plt.figure(figsize=(10, 5))\n",
    "    # plt.plot(training_total_loss, label='total loss', color='r')\n",
    "    for key in N_CLASSES:\n",
    "        # smooth\n",
    "        curve = smooth(training_tasks_loss[key])\n",
    "        plt.plot(curve, label=key, color=COLOR[key], alpha=0.5, )\n",
    "    plt.xlabel('iteration')\n",
    "    plt.ylabel('loss')\n",
    "    plt.legend()\n",
    "    plt.grid()\n",
    "    plt.title('Training Loss')\n",
    "\n",
    "def plot_validation_acc():\n",
    "    plt.figure(figsize=(10, 5))\n",
    "    for key in N_CLASSES:\n",
    "        plt.plot(validation_tasks_acc[key], label=key, color=COLOR[key])\n",
    "    plt.xlabel('epoch')\n",
    "    plt.ylabel('accuracy')\n",
    "    plt.legend(loc='lower left')\n",
    "    plt.grid()\n",
    "    plt.title('Validation Accuracy')"
   ]
  },
  {
   "cell_type": "markdown",
   "metadata": {},
   "source": [
    "训练流程"
   ]
  },
  {
   "cell_type": "code",
   "execution_count": 45,
   "metadata": {},
   "outputs": [
    {
     "name": "stdout",
     "output_type": "stream",
     "text": [
      "warmup: 132 milestones: [132, 264]\n",
      "Epoch: 1/3, Iteration: 1/132, Loss: 5.9727\n",
      "Epoch: 1/3, Iteration: 41/132, Loss: 2.3921\n",
      "Epoch: 1/3, Iteration: 81/132, Loss: 1.9680\n",
      "Epoch: 1/3, Iteration: 121/132, Loss: 2.3903\n"
     ]
    },
    {
     "name": "stderr",
     "output_type": "stream",
     "text": [
      "/home/shaozw/miniconda3/envs/pt2/lib/python3.9/site-packages/torch/optim/lr_scheduler.py:156: UserWarning: The epoch parameter in `scheduler.step()` was not necessary and is being deprecated where possible. Please use `scheduler.step()` to step the scheduler. During the deprecation, if epoch is different from None, the closed form is used instead of the new chainable form, where available. Please open an issue if you are unable to replicate your use case: https://github.com/pytorch/pytorch/issues/new/choose.\n",
      "  warnings.warn(EPOCH_DEPRECATION_WARNING, UserWarning)\n"
     ]
    },
    {
     "name": "stdout",
     "output_type": "stream",
     "text": [
      "Eval:\t[hair 96.28]\t\t[hair_color 48.95]\t\t[gender 94.18]\t\t[earring 85.78]\t\t[smile 78.24]\t\t[frontal_face 84.16]\t\t[style 91.03]\t\n",
      "Epoch: 2/3, Iteration: 1/132, Loss: 1.5996\n",
      "Epoch: 2/3, Iteration: 41/132, Loss: 1.7454\n",
      "Epoch: 2/3, Iteration: 81/132, Loss: 1.4407\n",
      "Epoch: 2/3, Iteration: 121/132, Loss: 2.7185\n",
      "Eval:\t[hair 96.47]\t\t[hair_color 50.67]\t\t[gender 93.23]\t\t[earring 85.88]\t\t[smile 81.39]\t\t[frontal_face 85.21]\t\t[style 80.92]\t\n",
      "Epoch: 3/3, Iteration: 1/132, Loss: 1.7344\n",
      "Epoch: 3/3, Iteration: 41/132, Loss: 1.3182\n",
      "Epoch: 3/3, Iteration: 81/132, Loss: 1.2092\n",
      "Epoch: 3/3, Iteration: 121/132, Loss: 1.1802\n",
      "Eval:\t[hair 96.95]\t\t[hair_color 53.34]\t\t[gender 95.61]\t\t[earring 86.35]\t\t[smile 81.58]\t\t[frontal_face 88.84]\t\t[style 82.25]\t\n"
     ]
    }
   ],
   "source": [
    "torch.cuda.empty_cache()\n",
    "LR = 1e-4\n",
    "EPOCHS = 3\n",
    "WARMUP = 1 * len(train_loader)\n",
    "# WARMUP = 150\n",
    "MILESTONES = [1 * len(train_loader), 2 * len(train_loader)]\n",
    "# MILESTONES = [100, 300]\n",
    "print('warmup:', WARMUP, 'milestones:', MILESTONES)\n",
    "SUB_BATCH = BATCH_SIZE // 1\n",
    "# T_CLASSES = ['gender']\n",
    "lr_record = []\n",
    "total_i = 0\n",
    "net = Sk2Attr()\n",
    "net.cuda()\n",
    "criterions, optimizer, schd = get_optim_utils(net, LR, WARMUP, MILESTONES, 0.2, 0.1)\n",
    "best_acc = {key: 0. for key in N_CLASSES}\n",
    "best_classifier = {key: None for key in N_CLASSES}\n",
    "# swa_model = torch.optim.swa_utils.AveragedModel(net)\n",
    "# swa_scheduler = torch.optim.swa_utils.SWALR(optimizer, swa_lr=2e-5, anneal_epochs=300)\n",
    "# ema_avg = lambda averaged_model_parameter, model_parameter, num_averaged:\\\n",
    "#         0.9 * averaged_model_parameter + 0.1 * model_parameter\n",
    "# ema_model = torch.optim.swa_utils.AveragedModel(net, avg_fn=ema_avg)\n",
    "# swa_scheduler = torch.optim.swa_utils.SWA(optimizer, swa_model, swa_start=WARMUP, swa_freq=1)\n",
    "refresh_records()\n",
    "for epoch in range(EPOCHS):\n",
    "    net.train()\n",
    "    for i, (img, label) in enumerate(train_loader):\n",
    "        # split to sub-batch to avoid OOM\n",
    "        for j in range(0, len(img), SUB_BATCH):\n",
    "            img_ = img[j:j+SUB_BATCH].cuda()\n",
    "            label_ = {key: label[key][j:j+SUB_BATCH].cuda() for key in N_CLASSES}\n",
    "            output = net(img_)\n",
    "            loss = {key: criterions(output[key], label_[key]) for key in N_CLASSES}\n",
    "            loss_total = sum(loss.values())\n",
    "            loss_total.backward()\n",
    "        optimizer.step()\n",
    "        # if total_i >= 500:\n",
    "        #     # ema_model.update(net)\n",
    "        #     swa_scheduler.step()\n",
    "        #     swa_model.update_parameters(net)\n",
    "        # else:\n",
    "        #     schd.step()\n",
    "        schd.step()\n",
    "        lr_record.append(optimizer.param_groups[0]['lr'])\n",
    "        optimizer.zero_grad()\n",
    "        training_total_loss.append(loss_total.item())\n",
    "        for key in N_CLASSES:\n",
    "            training_tasks_loss[key].append(loss[key].item())\n",
    "        if i % 40 == 0:\n",
    "            print('Epoch: {}/{}, Iteration: {}/{}, Loss: {:.4f}'.format(\n",
    "                epoch + 1, EPOCHS, i + 1, len(train_loader), loss_total.item()))\n",
    "        # if i % 5 == 0:\n",
    "        # if total_i > WARMUP + MILESTONES[0]:\n",
    "        #     # ema_model.update(net)\n",
    "        #     swa_model.update_parameters(net)\n",
    "        total_i += 1\n",
    "    # validation\n",
    "    acc_per_task = validate(net)\n",
    "    for key in N_CLASSES:\n",
    "        validation_tasks_acc[key].append(acc_per_task[key])\n",
    "    # save best classifiers\n",
    "    for key in N_CLASSES:\n",
    "        if acc_per_task[key] > best_acc[key]:\n",
    "            best_acc[key] = acc_per_task[key]\n",
    "            best_classifier[key] = deepcopy(net.classifiers[key].state_dict())\n",
    "    # schd.step()"
   ]
  },
  {
   "cell_type": "code",
   "execution_count": null,
   "metadata": {},
   "outputs": [],
   "source": [
    "plt.plot(lr_record)\n",
    "plt.xlabel('epoch')\n",
    "plt.ylabel('lr')\n"
   ]
  },
  {
   "cell_type": "code",
   "execution_count": null,
   "metadata": {},
   "outputs": [],
   "source": [
    "plot_validation_acc()"
   ]
  },
  {
   "cell_type": "code",
   "execution_count": 50,
   "metadata": {},
   "outputs": [
    {
     "data": {
      "image/png": "[encoded data removed]",
      "text/plain": [
       "<Figure size 720x360 with 1 Axes>"
      ]
     },
     "metadata": {
      "needs_background": "light"
     },
     "output_type": "display_data"
    }
   ],
   "source": [
    "plot_training_loss()"
   ]
  },
  {
   "cell_type": "code",
   "execution_count": 51,
   "metadata": {},
   "outputs": [],
   "source": [
    "# load best classifiers\n",
    "for key in N_CLASSES:\n",
    "    net.classifiers[key].load_state_dict(best_classifier[key])\n",
    "torch.save(net.state_dict(), './best_model.pth')"
   ]
  },
  {
   "cell_type": "code",
   "execution_count": 57,
   "metadata": {},
   "outputs": [],
   "source": [
    "@torch.no_grad()\n",
    "def validate_full(net, verbose=True):\n",
    "    net.eval()\n",
    "    correct = {key: 0 for key in N_CLASSES}\n",
    "    preds = {key: [] for key in N_CLASSES}\n",
    "    gts = {key: [] for key in N_CLASSES}\n",
    "    n_sample = len(val_loader) * BATCH_SIZE\n",
    "    for i, (img, label) in enumerate(val_loader):\n",
    "        img = img.cuda()\n",
    "        output = net(img)\n",
    "        pred = {key: output[key].argmax(dim=1).cpu() for key in N_CLASSES}\n",
    "        correct = {key: correct[key] + (pred[key] == label[key]).sum().item()\\\n",
    "             for key in N_CLASSES}\n",
    "        for key in N_CLASSES:\n",
    "            preds[key].extend(pred[key].tolist())\n",
    "            gts[key].extend(label[key].tolist())\n",
    "    acc_per_task = {key: correct[key] / n_sample for key in N_CLASSES}\n",
    "    if verbose:\n",
    "        print('Eval:', end='')\n",
    "        for key in N_CLASSES:\n",
    "            print(' [{} {:.2f}]'.format(key, acc_per_task[key] * 100), end='\\t')\n",
    "        print()\n",
    "    # plot confusion matrix for each task\n",
    "    for key in N_CLASSES:\n",
    "        plot_confusion_matrix(gts[key], preds[key], N_CLASSES[key], key)\n",
    "    return acc_per_task\n",
    "\n",
    "def plot_confusion_matrix(gts, preds, n_class, task_name):\n",
    "    cm = confusion_matrix(gts, preds, n_class)\n",
    "    gt_portion = np.sum(cm, axis=1) / np.sum(cm)\n",
    "    pred_portion = np.sum(cm, axis=0) / np.sum(cm)\n",
    "    cm = cm.astype('float') / cm.sum(axis=1)[:, np.newaxis]\n",
    "    plt.figure()\n",
    "    plt.imshow(cm, interpolation='nearest', cmap=plt.cm.Blues)\n",
    "    plt.title(task_name)\n",
    "    plt.colorbar()\n",
    "    ytick_marks = [f'{i}({int(gt_portion[i]*100)}%)' for i in range(n_class)]\n",
    "    xtick_marks = [f'{i}({int(pred_portion[i]*100)}%)' for i in range(n_class)]\n",
    "    plt.yticks(np.arange(n_class), ytick_marks)\n",
    "    plt.xticks(np.arange(n_class), xtick_marks)\n",
    "    plt.ylabel('True label')\n",
    "    plt.xlabel('Predicted label')\n",
    "    plt.savefig('./confusion_matrix_{}.png'.format(task_name))\n",
    "    plt.close()\n",
    "\n",
    "def confusion_matrix(gts, preds, n_class):\n",
    "    cm = np.zeros((n_class, n_class))\n",
    "    for gt, pred in zip(gts, preds):\n",
    "        cm[gt][pred] += 1\n",
    "    return cm"
   ]
  },
  {
   "cell_type": "code",
   "execution_count": 58,
   "metadata": {},
   "outputs": [
    {
     "name": "stdout",
     "output_type": "stream",
     "text": [
      "Eval: [hair 96.95]\t [hair_color 53.34]\t [gender 95.61]\t [earring 86.35]\t [smile 81.58]\t [frontal_face 88.84]\t [style 90.46]\t\n"
     ]
    },
    {
     "data": {
      "text/plain": [
       "{'hair': 0.9694656488549618,\n",
       " 'hair_color': 0.5333969465648855,\n",
       " 'gender': 0.9561068702290076,\n",
       " 'earring': 0.8635496183206107,\n",
       " 'smile': 0.8158396946564885,\n",
       " 'frontal_face': 0.8883587786259542,\n",
       " 'style': 0.9045801526717557}"
      ]
     },
     "execution_count": 58,
     "metadata": {},
     "output_type": "execute_result"
    }
   ],
   "source": [
    "validate_full(net)"
   ]
  },
  {
   "cell_type": "code",
   "execution_count": null,
   "metadata": {},
   "outputs": [],
   "source": []
  }
 ],
 "metadata": {
  "interpreter": {
   "hash": "88a50faf3cc38d15b019e3b39feb27ad74647f477b22b2c532060a8835fbc872"
  },
  "kernelspec": {
   "display_name": "Python 3.9.7 ('pt2')",
   "language": "python",
   "name": "python3"
  },
  "language_info": {
   "codemirror_mode": {
    "name": "ipython",
    "version": 3
   },
   "file_extension": ".py",
   "mimetype": "text/x-python",
   "name": "python",
   "nbconvert_exporter": "python",
   "pygments_lexer": "ipython3",
   "version": "3.9.7"
  },
  "orig_nbformat": 4
 },
 "nbformat": 4,
 "nbformat_minor": 2
}
